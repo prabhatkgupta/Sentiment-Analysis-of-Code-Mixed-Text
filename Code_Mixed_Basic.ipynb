{
  "nbformat": 4,
  "nbformat_minor": 0,
  "metadata": {
    "colab": {
      "name": "Code-Mixed Basic.ipynb",
      "provenance": [],
      "collapsed_sections": []
    },
    "kernelspec": {
      "name": "python3",
      "display_name": "Python 3"
    }
  },
  "cells": [
    {
      "cell_type": "code",
      "metadata": {
        "id": "_bxdGm4cmav5",
        "colab_type": "code",
        "outputId": "949db005-47f1-446d-ab32-a27a0779b1ba",
        "colab": {
          "base_uri": "https://localhost:8080/",
          "height": 119
        }
      },
      "source": [
        "pip install googletrans"
      ],
      "execution_count": 64,
      "outputs": [
        {
          "output_type": "stream",
          "text": [
            "Requirement already satisfied: googletrans in /usr/local/lib/python3.6/dist-packages (2.4.0)\n",
            "Requirement already satisfied: requests in /usr/local/lib/python3.6/dist-packages (from googletrans) (2.23.0)\n",
            "Requirement already satisfied: certifi>=2017.4.17 in /usr/local/lib/python3.6/dist-packages (from requests->googletrans) (2020.4.5.1)\n",
            "Requirement already satisfied: idna<3,>=2.5 in /usr/local/lib/python3.6/dist-packages (from requests->googletrans) (2.9)\n",
            "Requirement already satisfied: chardet<4,>=3.0.2 in /usr/local/lib/python3.6/dist-packages (from requests->googletrans) (3.0.4)\n",
            "Requirement already satisfied: urllib3!=1.25.0,!=1.25.1,<1.26,>=1.21.1 in /usr/local/lib/python3.6/dist-packages (from requests->googletrans) (1.24.3)\n"
          ],
          "name": "stdout"
        }
      ]
    },
    {
      "cell_type": "code",
      "metadata": {
        "id": "9Ntu5_JInBvK",
        "colab_type": "code",
        "outputId": "22240956-8aa1-421f-ec84-22bc36573a25",
        "colab": {
          "base_uri": "https://localhost:8080/",
          "height": 68
        }
      },
      "source": [
        "import os\n",
        "os.chdir('drive/My Drive/Dataset/CodeMixed')\n",
        "!ls"
      ],
      "execution_count": 0,
      "outputs": [
        {
          "output_type": "stream",
          "text": [
            "Data\t\t    IIITH_Codemixed.txt   translated_data.txt\n",
            "embeddings_dict.h5  Padded_Embeddings.h5  y_train.h5\n",
            "glove.6B.100d.txt   pygoogletransmaster\n"
          ],
          "name": "stdout"
        }
      ]
    },
    {
      "cell_type": "code",
      "metadata": {
        "id": "QC7hKdYoxtX0",
        "colab_type": "code",
        "colab": {}
      },
      "source": [
        "import numpy as np\n",
        "import h5py\n",
        "import pickle\n",
        "from copy import deepcopy\n",
        "from sklearn.metrics import confusion_matrix\n",
        "from sklearn.model_selection import train_test_split\n",
        "from keras.models import Sequential, load_model\n",
        "from keras.callbacks import Callback,ModelCheckpoint\n",
        "from keras.wrappers.scikit_learn import KerasClassifier\n",
        "from keras.preprocessing import sequence\n",
        "from keras.optimizers import Adamax\n",
        "from keras import backend as K\n",
        "from keras import regularizers\n",
        "from keras.layers.core import Dense, Dropout, Activation\n",
        "from keras.layers.embeddings import Embedding\n",
        "from keras.layers.recurrent import LSTM, GRU\n",
        "from keras.layers.convolutional import Conv1D\n",
        "from keras.layers.pooling import MaxPooling1D\n",
        "from google.cloud import translate_v2\n",
        "from keras.utils import np_utils\n",
        "from googletrans import Translator\n",
        "import matplotlib.pyplot as plt\n",
        "import pandas as pd\n",
        "import re"
      ],
      "execution_count": 0,
      "outputs": []
    },
    {
      "cell_type": "code",
      "metadata": {
        "id": "yErluytvYEAW",
        "colab_type": "code",
        "colab": {}
      },
      "source": [
        "################# GLOBAL VARIABLES #####################\n",
        "#Filenames\n",
        "Masterdir = ''\n",
        "translated_data = 'translated_data.txt'\n",
        "embeddings_dict = {}\n",
        "check_dict = {}\n",
        "max_length = 50"
      ],
      "execution_count": 0,
      "outputs": []
    },
    {
      "cell_type": "code",
      "metadata": {
        "id": "aLHYODKYYG2_",
        "colab_type": "code",
        "colab": {}
      },
      "source": [
        "#LSTM Model Hyperparameters\n",
        "lstm_parameters_size = 128\n",
        "# Training Hyperparameters\n",
        "batch_size = 64\n",
        "num_epochs = 50\n",
        "num_classes = 3\n",
        "fraction_test_set = 0.2"
      ],
      "execution_count": 0,
      "outputs": []
    },
    {
      "cell_type": "code",
      "metadata": {
        "id": "IvZF8r_gl94f",
        "colab_type": "code",
        "colab": {}
      },
      "source": [
        "def token(sentence, remove_vowels=False, remove_repeat=False, minchars=2):\n",
        "    tokens = []\n",
        "    #for t in re.findall(\"[A-Z]{2,}(?![a-z])|[A-Z][a-z]+(?=[A-Z])|[\\w]+\",sentence.lower()):\n",
        "    for t in re.findall(\"[a-zA-Z]+\",sentence.lower()):\n",
        "\n",
        "        if len(t)>=minchars:\n",
        "            if remove_vowels:\n",
        "                t=removeVovels(t)\n",
        "            if remove_repeat:\n",
        "                t=removeRepeat(t)\n",
        "            tokens.append(t)\n",
        "    return tokens"
      ],
      "execution_count": 0,
      "outputs": []
    },
    {
      "cell_type": "code",
      "metadata": {
        "id": "pXSujoOUYQ06",
        "colab_type": "code",
        "colab": {}
      },
      "source": [
        "def load_embeddings():\n",
        "\t\"\"\"\n",
        "\tPurpose -> It Loads the pretrained GloVe Word Embeddings\n",
        "\tInput   -> No Arguments\n",
        "\tOutput  -> Loads the Embeddings into Embeddings_dict\n",
        "\t\"\"\"\n",
        "\tf = open(\"glove.6B.100d.txt\", 'r', encoding=\"utf-8\")\n",
        "\n",
        "\tfor line in f:\n",
        "\t    values = line.split()\n",
        "\t    word = values[0]\n",
        "\t    vector = np.asarray(values[1:], \"float32\")\n",
        "\t    embeddings_dict[word] = vector\n",
        "\t    check_dict[word] = 1\n"
      ],
      "execution_count": 0,
      "outputs": []
    },
    {
      "cell_type": "code",
      "metadata": {
        "id": "a067lj_yYoQh",
        "colab_type": "code",
        "colab": {}
      },
      "source": [
        "def save_data(Masterdir,data_name, data, file_name):\n",
        "\t\"\"\"\n",
        "\tPurpose -> Saves the data along with labels as data_name in the folder Masterdir.\n",
        "\tInput   -> Data, Folder location where and Data is stored in file File_name\n",
        "\tOutput  -> Nil\n",
        "\t\"\"\"\n",
        "\th5f = h5py.File(Masterdir+Modeldir+file_name+'.h5', 'a')\n",
        "\th5f.create_dataset(data_name, data=data)\n",
        "\th5f.close()"
      ],
      "execution_count": 0,
      "outputs": []
    },
    {
      "cell_type": "code",
      "metadata": {
        "id": "zfZpHGJfOygy",
        "colab_type": "code",
        "colab": {}
      },
      "source": [
        "def save_model(Masterdir,filename,model):\n",
        "\t\"\"\"\n",
        "\tPurpose -> Saves the model along with labels as data_name in the folder Masterdir.\n",
        "\tInput   -> Keras model along with the location of file where it is to be stored.\n",
        "\tOutput  -> Nil\n",
        "\t\"\"\"\n",
        "\t#Referred from:- http://keras.io/getting-started/faq/#how-can-i-save-a-keras-model\n",
        "\tmodel.save(Masterdir+'LSTM_'+filename+'_model.h5')\n",
        "\tmodel.save_weights(Masterdir+'LSTM_'+filename+'_weights.h5')"
      ],
      "execution_count": 0,
      "outputs": []
    },
    {
      "cell_type": "code",
      "metadata": {
        "id": "Bs-UDVenqFYC",
        "colab_type": "code",
        "colab": {}
      },
      "source": [
        "def get_data(Masterdir, filename, data_name):\n",
        "  \"\"\"\n",
        "\tPurpose -> It is used to get data stored in an h5py file.\n",
        "\tInput   -> Filename, folder location and the key name in h5py file.\n",
        "\tOutput  -> Extracted Data\n",
        "\t\"\"\"\n",
        "  h5f = h5py.File(Masterdir+filename+'.h5', 'r')\n",
        "  return h5f[data_name]"
      ],
      "execution_count": 0,
      "outputs": []
    },
    {
      "cell_type": "code",
      "metadata": {
        "id": "29nATkrfG5RR",
        "colab_type": "code",
        "colab": {}
      },
      "source": [
        "def get_f1(y_true, y_pred): #taken from old keras source code\n",
        "    \n",
        "    true_positives = K.sum(K.round(K.clip(y_true * y_pred, 0, 1)))\n",
        "    possible_positives = K.sum(K.round(K.clip(y_true, 0, 1)))\n",
        "    predicted_positives = K.sum(K.round(K.clip(y_pred, 0, 1)))\n",
        "    precision = true_positives / (predicted_positives + K.epsilon())\n",
        "    recall = true_positives / (possible_positives + K.epsilon())\n",
        "    f1_val = 2*(precision*recall)/(precision+recall+K.epsilon())\n",
        "    return f1_val"
      ],
      "execution_count": 0,
      "outputs": []
    },
    {
      "cell_type": "code",
      "metadata": {
        "id": "SzAXgzZDYa0m",
        "colab_type": "code",
        "colab": {}
      },
      "source": [
        "def create_embedding_vectors(Masterdir,filename):\n",
        "\t\"\"\"\n",
        "\tPurpose -> Get Word Embeddings and pad the sequence\n",
        "\tInput   -> Data file containing the list of words\n",
        "\tOutput  -> A feature matrix representing embedding vectors of words.\n",
        "\t\"\"\"\n",
        "\tf=open(Masterdir+Datadir+filename,'r', encoding='utf-8')\n",
        "\tlines = f.read()\n",
        "\tlines = lines.split('\\n')\n",
        "\n",
        "\ttemp = np.random.randn(100)\n",
        "\tembeddings = []\n",
        "\tmx=0\n",
        "\n",
        "\tfor line in lines:\n",
        "\t\ttoken_lines = token(line)\n",
        "\n",
        "\t\tembedding_vector = []\n",
        "\t\tfor words in token_lines:\n",
        "\t\t\tvalue = check_dict.get(words)\n",
        "\t\t\tif(value != None):\n",
        "\t\t\t\tvector = embeddings_dict.get(words)\n",
        "\t\t\t\t#print(\"vector shape: \",vector.shape)\n",
        "\t\t\t\tembedding_vector.append(vector)\n",
        "\t\t\telse:\n",
        "\t\t\t\tembedding_vector.append(temp)\n",
        "\n",
        "\t\tsize = len(embedding_vector)\n",
        "\t\tmx = max(mx,size)\n",
        "\t\tfor i in range(max_length-size):\n",
        "\t\t\tembedding_vector.append(temp)\n",
        "\t \n",
        "\t\tembedding_vector = np.asarray(embedding_vector)\n",
        "\t\tembeddings.append(embedding_vector[0:max_length])\n",
        "\t\t#print(\"embedding_vector shape : \", embedding_vector.shape)\n",
        "\t\n",
        "\tembeddings = np.asarray(embeddings)\n",
        "\tprint(embeddings.shape)\n",
        "\treturn embeddings"
      ],
      "execution_count": 0,
      "outputs": []
    },
    {
      "cell_type": "code",
      "metadata": {
        "id": "qPD1n_j0Ydv3",
        "colab_type": "code",
        "colab": {}
      },
      "source": [
        "def RNN_Model_Helper(X_train,y_train,hyperparameters):\n",
        "\t\"\"\"\n",
        "\tPurpose -> It Defines and trains the proposed Keras LSTM model\n",
        "\tInput   -> Training data, label and respective Hyperparameters.\n",
        "\tOutput  -> Trained LSTM network and its history\n",
        "\t\"\"\"\n",
        "\t#Sets the model hyperparameters\n",
        "\t# LSTM hyperparameters\n",
        "\tlstm_parameters_size = hyperparameters[6]\n",
        "\t# Training hyperparameters\n",
        "\tbatch_size = hyperparameters[7]\n",
        "\tnb_epoch = hyperparameters[8]\n",
        "\tnum_classes = hyperparameters[9]\n",
        "\tfraction_test_set = hyperparameters[10] \n",
        "\n",
        "\t#Train & Validation data splitting\n",
        "\tX_train, X_valid, y_train, y_valid = train_test_split(X_train, y_train, train_size=1-fraction_test_set, fraction_test_set=fraction_test_set, random_state=42)\n",
        "\t\n",
        "\t#Build the sequential model\n",
        "\tprint('Build model...')\n",
        "\tmodel = Sequential()\n",
        "\n",
        "\tmodel.add(LSTM(lstm_parameters_size, return_sequences=True))\n",
        "\t#model.add(LSTM(lstm_parameters_size, dropout=0.3, recurrent_dropout=0.3, return_sequences=True))\n",
        "\tmodel.add(LSTM(lstm_parameters_size, return_sequences=False))\n",
        "\tmodel.add(Dense(num_classes))\n",
        "\tmodel.add(Activation('softmax'))\n",
        "\n",
        "\t#Adamax Optimizer is used and loss model is categorical crossentropy loss\n",
        "\tmodel.compile(loss='categorical_crossentropy',\n",
        "\t\t\t  \toptimizer='adamax',\n",
        "\t\t\t  \tmetrics=['accuracy'])\n",
        "\t\n",
        "\n",
        "\tprint('Train...')\n",
        "\t#Model is trained for 50 epochs and shuffled after every epoch for training data, model is validated on validation data\n",
        "\thistory = model.fit(X_train, y_train, \n",
        "\t\t\t  batch_size=batch_size, \n",
        "\t\t\t  shuffle=True, \n",
        "\t\t\t  epochs=nb_epoch,\n",
        "\t\t\t  validation_data=(X_valid, y_valid))\n",
        " \n",
        "\treturn model,history"
      ],
      "execution_count": 0,
      "outputs": []
    },
    {
      "cell_type": "code",
      "metadata": {
        "id": "WgTw7-aPYhb-",
        "colab_type": "code",
        "colab": {}
      },
      "source": [
        "def evaluate_model(X_test,y_test,model,batch_size,num_classes):\n",
        "\t\"\"\"\n",
        "\tPurpose -> It is used to evaluate the model on the testing data.\n",
        "\tInput   -> Testing data and its corresponding label, trained model.\n",
        "\tOutput  -> Nil\n",
        "\t\"\"\"\n",
        "\t#Evaluate the accuracies\n",
        "\tscore, acc = model.evaluate(X_test, y_test, batch_size=batch_size)\n",
        "\tprint('Test score:', score)\n",
        "\tprint('Test accuracy:', acc)"
      ],
      "execution_count": 0,
      "outputs": []
    },
    {
      "cell_type": "code",
      "metadata": {
        "id": "TZbidqP8XZ81",
        "colab_type": "code",
        "colab": {}
      },
      "source": [
        "def print_training_losses(history):\n",
        "  \"\"\"\n",
        "\tPurpose -> To Plot a graph of Loss versus Epochs during Training\n",
        "\tInput   -> Keras history variable that contain information related to losses.\n",
        "\tOutput  -> Nil\n",
        "\t\"\"\"\n",
        "  loss_train = history.history['loss']\n",
        "  loss_val = history.history['val_loss']\n",
        "  epochs = range(1,num_epochs+1)\n",
        "  plt.plot(epochs, loss_train, 'g', label='Training loss')\n",
        "  plt.plot(epochs, loss_val, 'b', label='validation loss')\n",
        "  plt.title('Training and Validation loss')\n",
        "  plt.xlabel('Epochs')\n",
        "  plt.ylabel('Loss')\n",
        "  plt.legend()\n",
        "  plt.show()"
      ],
      "execution_count": 0,
      "outputs": []
    },
    {
      "cell_type": "code",
      "metadata": {
        "id": "fvy_banLXTZk",
        "colab_type": "code",
        "colab": {}
      },
      "source": [
        "def print_training_accuracy(history):\n",
        "  \"\"\"\n",
        "\tPurpose -> To Plot a graph of Accuracy versus Epochs during Training\n",
        "\tInput   -> Keras history variable that contain information related to Model's Accuracy.\n",
        "\tOutput  -> Nil\n",
        "\t\"\"\"\n",
        "  acc_train = history.history['accuracy']\n",
        "  acc_val = history.history['val_accuracy']\n",
        "  epochs = range(1, num_epochs+1)\n",
        "  plt.plot(epochs, acc_train, 'g', label='Training accuracy')\n",
        "  plt.plot(epochs, acc_val, 'b', label='validation accuracy')\n",
        "  plt.title('Training and Validation accuracy')\n",
        "  plt.xlabel('Epochs')\n",
        "  plt.ylabel('Accuracy')\n",
        "  plt.legend()\n",
        "  plt.show()"
      ],
      "execution_count": 0,
      "outputs": []
    },
    {
      "cell_type": "code",
      "metadata": {
        "id": "7WG7vbKkOiZx",
        "colab_type": "code",
        "colab": {
          "base_uri": "https://localhost:8080/",
          "height": 1000
        },
        "outputId": "1eda1d16-389d-43cd-d0ce-b77c9550d78f"
      },
      "source": [
        "if __name__ == '__main__':\n",
        "\n",
        "  #Master function\n",
        "  print('Loading GloVe Embeddings...')\n",
        "  load_embeddings()\n",
        "  print('GloVe Embeddings Loaded Successfully...')\n",
        "  print('Creating Embedding Vectors...')\n",
        "  embeddings = create_embedding_vectors(Masterdir,translated_data)\n",
        "  print(embeddings[0][max_length-1])\n",
        "  print('Embedding Vectors Created...')\n",
        "  save_data(Masterdir,\"Padded_Embeddings\", embeddings, \"Padded_Embeddings\")\n",
        "\n",
        "  X_train = get_data(Masterdir, \"Padded_Embeddings\", \"Padded_Embeddings\")\n",
        "  X_train = np.array(X_train)\n",
        "  y_train = get_data(Masterdir, \"y_train\", \"y_train\")\n",
        "  y_train = np.asarray(np_utils.to_categorical(y_train, num_classes))[0:X_train.shape[0],:]\n",
        "  #y_train = np.asarray(y_train).flatten()[0:X_train.shape[0]]\n",
        "  print(y_train.shape)\n",
        "  X_train, X_test, y_train, y_test = train_test_split(X_train, y_train, train_size=1-fraction_test_set, fraction_test_set=fraction_test_set, random_state=42)\n",
        "\n",
        "  save_data(Masterdir,\"X_train\", X_train, \"Train_Data\")\n",
        "  save_data(Masterdir,\"X_test\", X_test, \"Test_Data\")\n",
        "  save_data(Masterdir,\"y_train\", y_train, \"Train_Data\")\n",
        "  save_data(Masterdir,\"y_test\", y_test, \"Test_Data\")\n",
        "\n",
        "  print('Creating LSTM Network...')\n",
        "  model,history = RNN_Model_Helper(deepcopy(X_train),deepcopy(y_train),[MAX_FEATURES, max_length, embedding_size, filter_length, nb_filter, pool_length, lstm_parameters_size, batch_size, num_epochs, num_classes, fraction_test_set])\n",
        "\n",
        "  print('Plot Training/Validation Curves...')\n",
        "  print_training_losses(history)\n",
        "  print_training_accuracy(history)\n",
        "\n",
        "  save_model(Masterdir, \"Keras\", model)\n",
        "  print('Evaluating model...')\n",
        "  evaluate_model(X_test,deepcopy(y_test),model,batch_size,num_classes)\n",
        "  model.summary()"
      ],
      "execution_count": 80,
      "outputs": [
        {
          "output_type": "stream",
          "text": [
            "Loading GloVe Embeddings...\n",
            "GloVe Embeddings Loaded Successfully...\n",
            "Creating Embedding Vectors...\n",
            "(2592, 50, 100)\n",
            "[-0.6817311  -0.6276674   1.5813818  -0.26463943  1.07578199  1.53975185\n",
            "  0.38356503 -0.45795856  1.19999037  0.47646645 -0.14965938 -0.74445103\n",
            "  0.18443522 -1.87224724 -0.23803342  0.44471928 -1.03011412 -0.07037603\n",
            " -0.01377655  0.1949169   0.89693354 -0.61337502  2.72201472  0.57278129\n",
            " -1.81080483 -0.33751135 -0.22812751  0.06899858 -1.11148951  0.13577785\n",
            "  0.5081188  -0.00386324  0.92051186  0.18114805 -1.15111909  1.14354005\n",
            "  0.28803396  1.68312451  1.47037131 -0.96676225 -0.13011999 -0.73528063\n",
            "  1.34348181 -0.52281293 -0.22839533 -0.05239034  0.06135805  1.08642423\n",
            "  0.14646381  0.04605178  0.10094235 -0.60921943 -0.13128605  1.50028154\n",
            " -0.7065093   0.22511454  0.33837259  0.39208676  1.07505199 -0.09933878\n",
            " -0.21442647  0.47744288 -0.4144244   0.62974039 -0.30872554 -0.70870322\n",
            " -1.34085519  0.69801417  0.05462367  0.64955344  1.75895274  0.85509457\n",
            "  0.38575516 -0.82790399  0.92146948  0.41052646 -0.25104046 -0.05079251\n",
            "  1.18544417  1.75951684 -0.63276889  1.75436056  0.3557102   0.59323726\n",
            "  1.93850749  0.74479202 -1.01752353  1.22267464 -0.88080944  0.8584335\n",
            " -0.13676678  0.4167178   0.56501116  0.53086275 -0.06865464  0.47140081\n",
            "  0.98820839  0.90365934 -0.84423294 -1.55739667]\n",
            "Embedding Vectors Created...\n",
            "(2592, 3)\n",
            "Creating LSTM Network...\n",
            "Build model...\n",
            "Train...\n",
            "Train on 1658 samples, validate on 415 samples\n",
            "Epoch 1/50\n",
            "1658/1658 [==============================] - 7s 4ms/step - loss: 0.9350 - accuracy: 0.6062 - val_loss: 0.8944 - val_accuracy: 0.6313\n",
            "Epoch 2/50\n",
            "1658/1658 [==============================] - 7s 4ms/step - loss: 0.9065 - accuracy: 0.6158 - val_loss: 0.8946 - val_accuracy: 0.6313\n",
            "Epoch 3/50\n",
            "1658/1658 [==============================] - 7s 4ms/step - loss: 0.9099 - accuracy: 0.6170 - val_loss: 0.9051 - val_accuracy: 0.6313\n",
            "Epoch 4/50\n",
            "1658/1658 [==============================] - 7s 4ms/step - loss: 0.9056 - accuracy: 0.6170 - val_loss: 0.8983 - val_accuracy: 0.6313\n",
            "Epoch 5/50\n",
            "1658/1658 [==============================] - 7s 4ms/step - loss: 0.9062 - accuracy: 0.6170 - val_loss: 0.9020 - val_accuracy: 0.6313\n",
            "Epoch 6/50\n",
            "1658/1658 [==============================] - 7s 4ms/step - loss: 0.9015 - accuracy: 0.6170 - val_loss: 0.8949 - val_accuracy: 0.6313\n",
            "Epoch 7/50\n",
            "1658/1658 [==============================] - 7s 4ms/step - loss: 0.9028 - accuracy: 0.6170 - val_loss: 0.8977 - val_accuracy: 0.6313\n",
            "Epoch 8/50\n",
            "1658/1658 [==============================] - 7s 4ms/step - loss: 0.9015 - accuracy: 0.6170 - val_loss: 0.8957 - val_accuracy: 0.6313\n",
            "Epoch 9/50\n",
            "1658/1658 [==============================] - 7s 4ms/step - loss: 0.9037 - accuracy: 0.6170 - val_loss: 0.8978 - val_accuracy: 0.6313\n",
            "Epoch 10/50\n",
            "1658/1658 [==============================] - 7s 4ms/step - loss: 0.9025 - accuracy: 0.6176 - val_loss: 0.8960 - val_accuracy: 0.6313\n",
            "Epoch 11/50\n",
            "1658/1658 [==============================] - 7s 4ms/step - loss: 0.9020 - accuracy: 0.6170 - val_loss: 0.8974 - val_accuracy: 0.6313\n",
            "Epoch 12/50\n",
            "1658/1658 [==============================] - 9s 6ms/step - loss: 0.9004 - accuracy: 0.6176 - val_loss: 0.8970 - val_accuracy: 0.6313\n",
            "Epoch 13/50\n",
            "1658/1658 [==============================] - 8s 5ms/step - loss: 0.9007 - accuracy: 0.6176 - val_loss: 0.8968 - val_accuracy: 0.6313\n",
            "Epoch 14/50\n",
            "1658/1658 [==============================] - 7s 4ms/step - loss: 0.9017 - accuracy: 0.6176 - val_loss: 0.9011 - val_accuracy: 0.6313\n",
            "Epoch 15/50\n",
            "1658/1658 [==============================] - 7s 4ms/step - loss: 0.9049 - accuracy: 0.6182 - val_loss: 0.9031 - val_accuracy: 0.6313\n",
            "Epoch 16/50\n",
            "1658/1658 [==============================] - 7s 4ms/step - loss: 0.9036 - accuracy: 0.6182 - val_loss: 0.8985 - val_accuracy: 0.6313\n",
            "Epoch 17/50\n",
            "1658/1658 [==============================] - 7s 4ms/step - loss: 0.9015 - accuracy: 0.6182 - val_loss: 0.8965 - val_accuracy: 0.6313\n",
            "Epoch 18/50\n",
            "1658/1658 [==============================] - 7s 4ms/step - loss: 0.9019 - accuracy: 0.6182 - val_loss: 0.8988 - val_accuracy: 0.6313\n",
            "Epoch 19/50\n",
            "1658/1658 [==============================] - 7s 4ms/step - loss: 0.9004 - accuracy: 0.6182 - val_loss: 0.9008 - val_accuracy: 0.6313\n",
            "Epoch 20/50\n",
            "1658/1658 [==============================] - 7s 4ms/step - loss: 0.8994 - accuracy: 0.6182 - val_loss: 0.9003 - val_accuracy: 0.6313\n",
            "Epoch 21/50\n",
            "1658/1658 [==============================] - 7s 4ms/step - loss: 0.8990 - accuracy: 0.6182 - val_loss: 0.9021 - val_accuracy: 0.6313\n",
            "Epoch 22/50\n",
            "1658/1658 [==============================] - 7s 4ms/step - loss: 0.8989 - accuracy: 0.6182 - val_loss: 0.9000 - val_accuracy: 0.6265\n",
            "Epoch 23/50\n",
            "1658/1658 [==============================] - 7s 4ms/step - loss: 0.8993 - accuracy: 0.6182 - val_loss: 0.8980 - val_accuracy: 0.6313\n",
            "Epoch 24/50\n",
            "1658/1658 [==============================] - 7s 4ms/step - loss: 0.9002 - accuracy: 0.6182 - val_loss: 0.9050 - val_accuracy: 0.6265\n",
            "Epoch 25/50\n",
            "1658/1658 [==============================] - 7s 4ms/step - loss: 0.9017 - accuracy: 0.6182 - val_loss: 0.9000 - val_accuracy: 0.6313\n",
            "Epoch 26/50\n",
            "1658/1658 [==============================] - 7s 4ms/step - loss: 0.8996 - accuracy: 0.6182 - val_loss: 0.9029 - val_accuracy: 0.6313\n",
            "Epoch 27/50\n",
            "1658/1658 [==============================] - 7s 4ms/step - loss: 0.8985 - accuracy: 0.6182 - val_loss: 0.8984 - val_accuracy: 0.6265\n",
            "Epoch 28/50\n",
            "1658/1658 [==============================] - 7s 4ms/step - loss: 0.8994 - accuracy: 0.6182 - val_loss: 0.9144 - val_accuracy: 0.6289\n",
            "Epoch 29/50\n",
            "1658/1658 [==============================] - 7s 4ms/step - loss: 0.8973 - accuracy: 0.6182 - val_loss: 0.9040 - val_accuracy: 0.6313\n",
            "Epoch 30/50\n",
            "1658/1658 [==============================] - 7s 4ms/step - loss: 0.8945 - accuracy: 0.6182 - val_loss: 0.9061 - val_accuracy: 0.6289\n",
            "Epoch 31/50\n",
            "1658/1658 [==============================] - 7s 4ms/step - loss: 0.8953 - accuracy: 0.6182 - val_loss: 0.9066 - val_accuracy: 0.6313\n",
            "Epoch 32/50\n",
            "1658/1658 [==============================] - 7s 4ms/step - loss: 0.8991 - accuracy: 0.6182 - val_loss: 0.9195 - val_accuracy: 0.6265\n",
            "Epoch 33/50\n",
            "1658/1658 [==============================] - 7s 4ms/step - loss: 0.9023 - accuracy: 0.6176 - val_loss: 0.8897 - val_accuracy: 0.6337\n",
            "Epoch 34/50\n",
            "1658/1658 [==============================] - 7s 4ms/step - loss: 0.8995 - accuracy: 0.6176 - val_loss: 0.8949 - val_accuracy: 0.6313\n",
            "Epoch 35/50\n",
            "1658/1658 [==============================] - 7s 4ms/step - loss: 0.8984 - accuracy: 0.6182 - val_loss: 0.8934 - val_accuracy: 0.6313\n",
            "Epoch 36/50\n",
            "1658/1658 [==============================] - 7s 4ms/step - loss: 0.8971 - accuracy: 0.6182 - val_loss: 0.9040 - val_accuracy: 0.6313\n",
            "Epoch 37/50\n",
            "1658/1658 [==============================] - 7s 4ms/step - loss: 0.8958 - accuracy: 0.6182 - val_loss: 0.9187 - val_accuracy: 0.6265\n",
            "Epoch 38/50\n",
            "1658/1658 [==============================] - 7s 4ms/step - loss: 0.8989 - accuracy: 0.6170 - val_loss: 0.8960 - val_accuracy: 0.6265\n",
            "Epoch 39/50\n",
            "1658/1658 [==============================] - 7s 4ms/step - loss: 0.8939 - accuracy: 0.6182 - val_loss: 0.9125 - val_accuracy: 0.6289\n",
            "Epoch 40/50\n",
            "1658/1658 [==============================] - 7s 4ms/step - loss: 0.8939 - accuracy: 0.6182 - val_loss: 0.9102 - val_accuracy: 0.6265\n",
            "Epoch 41/50\n",
            "1658/1658 [==============================] - 7s 4ms/step - loss: 0.8926 - accuracy: 0.6182 - val_loss: 0.9100 - val_accuracy: 0.6265\n",
            "Epoch 42/50\n",
            "1658/1658 [==============================] - 7s 4ms/step - loss: 0.8902 - accuracy: 0.6182 - val_loss: 0.9088 - val_accuracy: 0.6265\n",
            "Epoch 43/50\n",
            "1658/1658 [==============================] - 7s 4ms/step - loss: 0.8925 - accuracy: 0.6182 - val_loss: 0.9047 - val_accuracy: 0.6265\n",
            "Epoch 44/50\n",
            "1658/1658 [==============================] - 7s 4ms/step - loss: 0.8965 - accuracy: 0.6182 - val_loss: 0.8951 - val_accuracy: 0.6313\n",
            "Epoch 45/50\n",
            "1658/1658 [==============================] - 7s 4ms/step - loss: 0.8919 - accuracy: 0.6182 - val_loss: 0.9086 - val_accuracy: 0.6313\n",
            "Epoch 46/50\n",
            "1658/1658 [==============================] - 7s 4ms/step - loss: 0.8913 - accuracy: 0.6182 - val_loss: 0.8923 - val_accuracy: 0.6313\n",
            "Epoch 47/50\n",
            "1658/1658 [==============================] - 7s 4ms/step - loss: 0.8914 - accuracy: 0.6182 - val_loss: 0.9216 - val_accuracy: 0.6265\n",
            "Epoch 48/50\n",
            "1658/1658 [==============================] - 7s 4ms/step - loss: 0.8896 - accuracy: 0.6182 - val_loss: 0.9177 - val_accuracy: 0.6289\n",
            "Epoch 49/50\n",
            "1658/1658 [==============================] - 7s 4ms/step - loss: 0.8893 - accuracy: 0.6182 - val_loss: 0.9128 - val_accuracy: 0.6289\n",
            "Epoch 50/50\n",
            "1658/1658 [==============================] - 7s 4ms/step - loss: 0.8878 - accuracy: 0.6188 - val_loss: 0.9412 - val_accuracy: 0.6265\n",
            "Plot Training/Validation Curves...\n"
          ],
          "name": "stdout"
        },
        {
          "output_type": "display_data",
          "data": {
            "image/png": "[encoded data removed]",
            "text/plain": [
              "<Figure size 432x288 with 1 Axes>"
            ]
          },
          "metadata": {
            "tags": [],
            "needs_background": "light"
          }
        },
        {
          "output_type": "display_data",
          "data": {
            "image/png": "[encoded data removed]",
            "text/plain": [
              "<Figure size 432x288 with 1 Axes>"
            ]
          },
          "metadata": {
            "tags": [],
            "needs_background": "light"
          }
        },
        {
          "output_type": "stream",
          "text": [
            "Evaluating model...\n",
            "519/519 [==============================] - 1s 1ms/step\n",
            "Test score: 0.8694907931004415\n",
            "Test accuracy: 0.6570327281951904\n",
            "Model: \"sequential_2\"\n",
            "_________________________________________________________________\n",
            "Layer (type)                 Output Shape              Param #   \n",
            "=================================================================\n",
            "lstm_3 (LSTM)                (None, 50, 128)           117248    \n",
            "_________________________________________________________________\n",
            "lstm_4 (LSTM)                (None, 128)               131584    \n",
            "_________________________________________________________________\n",
            "dense_2 (Dense)              (None, 3)                 387       \n",
            "_________________________________________________________________\n",
            "activation_2 (Activation)    (None, 3)                 0         \n",
            "=================================================================\n",
            "Total params: 249,219\n",
            "Trainable params: 249,219\n",
            "Non-trainable params: 0\n",
            "_________________________________________________________________\n"
          ],
          "name": "stdout"
        }
      ]
    }
  ]
}